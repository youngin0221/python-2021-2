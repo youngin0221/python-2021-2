{
 "metadata": {
  "language_info": {
   "codemirror_mode": {
    "name": "ipython",
    "version": 3
   },
   "file_extension": ".py",
   "mimetype": "text/x-python",
   "name": "python",
   "nbconvert_exporter": "python",
   "pygments_lexer": "ipython3",
   "version": "3.8.5"
  },
  "orig_nbformat": 2,
  "kernelspec": {
   "name": "python385jvsc74a57bd08c1eae21719a0790335dcb83aad72b63b602cfe5cdb2bda0f60bc11d4f154e4b",
   "display_name": "Python 3.8.5 64-bit ('base': conda)"
  }
 },
 "nbformat": 4,
 "nbformat_minor": 2,
 "cells": [
  {
   "source": [
    "# 파일 다루기"
   ],
   "cell_type": "markdown",
   "metadata": {}
  },
  {
   "source": [
    "- 텍스트 파일 읽기"
   ],
   "cell_type": "markdown",
   "metadata": {}
  },
  {
   "cell_type": "code",
   "execution_count": 6,
   "metadata": {},
   "outputs": [
    {
     "output_type": "stream",
     "name": "stdout",
     "text": [
      "I Have a Dream, a song to sing\nTo help me cope, with anything\nIf you see the wonder, of a fairy tale\nYou can take the future, even if you fail\n\nI believe in angels\nSomething good in everything I see\nI believe in angels\nWhen I know the time is right for me\nI'll cross the stream, I Have a Dream\n"
     ]
    }
   ],
   "source": [
    "f = open('dream.txt', 'r')  # f = open('파일명', '파일 열기 모드')\n",
    "contents = f.read()\n",
    "print(contents)\n",
    "f.close()"
   ]
  },
  {
   "cell_type": "code",
   "execution_count": 7,
   "metadata": {},
   "outputs": [
    {
     "output_type": "stream",
     "name": "stdout",
     "text": [
      "<class 'str'>\nI Have a Dream, a song to sing\nTo help me cope, with anything\nIf you see the wonder, of a fairy tale\nYou can take the future, even if you fail\n\nI believe in angels\nSomething good in everything I see\nI believe in angels\nWhen I know the time is right for me\nI'll cross the stream, I Have a Dream\n"
     ]
    }
   ],
   "source": [
    "# with문과 함께 open()함수를 사용할 수 있는데, 들여쓰기가 있는 코드에서는 open()함수가 유지되고 들여쓰기가 종료되면 open()함수도 끝남.\n",
    "with open('dream.txt', 'r') as my_file:\n",
    "    contents = my_file.read()\n",
    "    print(type(contents))  # Contents의 형식은 무엇인가\n",
    "    print(contents)"
   ]
  },
  {
   "cell_type": "code",
   "execution_count": 32,
   "metadata": {},
   "outputs": [
    {
     "output_type": "stream",
     "name": "stdout",
     "text": [
      "<class 'list'>\n['I Have a Dream, a song to sing\\n', 'To help me cope, with anything\\n', 'If you see the wonder, of a fairy tale\\n', 'You can take the future, even if you fail\\n', '\\n', 'I believe in angels\\n', 'Something good in everything I see\\n', 'I believe in angels\\n', 'When I know the time is right for me\\n', \"I'll cross the stream, I Have a Dream\"]\n"
     ]
    }
   ],
   "source": [
    "# 한 줄씩 읽어서 리스트로 반환 - readlines\n",
    "with open('dream.txt', 'r') as my_file:\n",
    "    contents = my_file.readlines()\n",
    "    print(type(contents))\n",
    "    print(contents)"
   ]
  },
  {
   "cell_type": "code",
   "execution_count": 33,
   "metadata": {},
   "outputs": [
    {
     "output_type": "error",
     "ename": "NameError",
     "evalue": "name 'contents_list' is not defined",
     "traceback": [
      "\u001b[1;31m---------------------------------------------------------------------------\u001b[0m",
      "\u001b[1;31mNameError\u001b[0m                                 Traceback (most recent call last)",
      "\u001b[1;32m<ipython-input-33-a91f632084e8>\u001b[0m in \u001b[0;36m<module>\u001b[1;34m\u001b[0m\n\u001b[1;32m----> 1\u001b[1;33m \u001b[0mcontents_list\u001b[0m\u001b[1;33m[\u001b[0m\u001b[1;36m0\u001b[0m\u001b[1;33m]\u001b[0m\u001b[1;33m\u001b[0m\u001b[1;33m\u001b[0m\u001b[0m\n\u001b[0m",
      "\u001b[1;31mNameError\u001b[0m: name 'contents_list' is not defined"
     ]
    }
   ],
   "source": [
    "contents_list[0]"
   ]
  },
  {
   "cell_type": "code",
   "execution_count": 11,
   "metadata": {},
   "outputs": [
    {
     "output_type": "stream",
     "name": "stdout",
     "text": [
      "1 === I Have a Dream, a song to sing\n2 === To help me cope, with anything\n3 === If you see the wonder, of a fairy tale\n4 === You can take the future, even if you fail\n5 === \n6 === I believe in angels\n7 === Something good in everything I see\n8 === I believe in angels\n9 === When I know the time is right for me\n10 === I'll cross the stream, I Have a Dream\n"
     ]
    }
   ],
   "source": [
    "# 한 줄 단위로 읽기 - readLine\n",
    "with open('dream.txt', 'r') as my_file:\n",
    "    number = 1  # 넘버링\n",
    "    while True:\n",
    "        line = my_file.readline()\n",
    "        if not line:   # 마지막을 따지는 조건\n",
    "            break\n",
    "        print(number, '===', line.replace('\\n', ''))\n",
    "        number += 1"
   ]
  },
  {
   "source": [
    "- 파일 쓰기"
   ],
   "cell_type": "markdown",
   "metadata": {}
  },
  {
   "cell_type": "code",
   "execution_count": 14,
   "metadata": {},
   "outputs": [],
   "source": [
    "with open('new_file.txt', 'w') as f:\n",
    "    f.write('A quick brown fox jumps over the lazy dog.')"
   ]
  },
  {
   "cell_type": "code",
   "execution_count": 19,
   "metadata": {},
   "outputs": [],
   "source": [
    "# write mode에서는 파일을 over write 한다.\n",
    "with open('new_file.txt', 'w', encoding='utf8') as f:\n",
    "    f.write('새로운 글을 씁니다')"
   ]
  },
  {
   "cell_type": "code",
   "execution_count": 21,
   "metadata": {},
   "outputs": [],
   "source": [
    "with open('new_file.txt', 'a', encoding='utf8') as f:\n",
    "    f.write('새로운 글을 씁니다')"
   ]
  },
  {
   "cell_type": "code",
   "execution_count": 23,
   "metadata": {},
   "outputs": [],
   "source": [
    "with open('new_file.txt', 'a', encoding='utf8') as f:\n",
    "    f.write('A quick brown fox jumps over the lazy dog.\\n')\n",
    "    f.write('새로운 글을 씁니다\\n')"
   ]
  },
  {
   "source": [
    "- 디렉토리 만들기"
   ],
   "cell_type": "markdown",
   "metadata": {}
  },
  {
   "cell_type": "code",
   "execution_count": 26,
   "metadata": {},
   "outputs": [
    {
     "output_type": "error",
     "ename": "FileExistsError",
     "evalue": "[WinError 183] 파일이 이미 있으므로 만들 수 없습니다: 'subdir'",
     "traceback": [
      "\u001b[1;31m---------------------------------------------------------------------------\u001b[0m",
      "\u001b[1;31mFileExistsError\u001b[0m                           Traceback (most recent call last)",
      "\u001b[1;32m<ipython-input-26-cf40a5addaac>\u001b[0m in \u001b[0;36m<module>\u001b[1;34m\u001b[0m\n\u001b[0;32m      1\u001b[0m \u001b[1;32mimport\u001b[0m \u001b[0mos\u001b[0m\u001b[1;33m\u001b[0m\u001b[1;33m\u001b[0m\u001b[0m\n\u001b[1;32m----> 2\u001b[1;33m \u001b[0mos\u001b[0m\u001b[1;33m.\u001b[0m\u001b[0mmkdir\u001b[0m\u001b[1;33m(\u001b[0m\u001b[1;34m'subdir'\u001b[0m\u001b[1;33m)\u001b[0m\u001b[1;33m\u001b[0m\u001b[1;33m\u001b[0m\u001b[0m\n\u001b[0m",
      "\u001b[1;31mFileExistsError\u001b[0m: [WinError 183] 파일이 이미 있으므로 만들 수 없습니다: 'subdir'"
     ]
    }
   ],
   "source": [
    "import os\n",
    "os.mkdir('subdir')"
   ]
  },
  {
   "cell_type": "code",
   "execution_count": 27,
   "metadata": {},
   "outputs": [
    {
     "output_type": "error",
     "ename": "FileExistsError",
     "evalue": "[WinError 183] 파일이 이미 있으므로 만들 수 없습니다: 'subdir'",
     "traceback": [
      "\u001b[1;31m---------------------------------------------------------------------------\u001b[0m",
      "\u001b[1;31mFileExistsError\u001b[0m                           Traceback (most recent call last)",
      "\u001b[1;32m<ipython-input-27-2c69015a6ede>\u001b[0m in \u001b[0;36m<module>\u001b[1;34m\u001b[0m\n\u001b[1;32m----> 1\u001b[1;33m \u001b[0mos\u001b[0m\u001b[1;33m.\u001b[0m\u001b[0mmkdir\u001b[0m\u001b[1;33m(\u001b[0m\u001b[1;34m'subdir'\u001b[0m\u001b[1;33m)\u001b[0m\u001b[1;33m\u001b[0m\u001b[1;33m\u001b[0m\u001b[0m\n\u001b[0m",
      "\u001b[1;31mFileExistsError\u001b[0m: [WinError 183] 파일이 이미 있으므로 만들 수 없습니다: 'subdir'"
     ]
    }
   ],
   "source": [
    "os.mkdir('subdir')"
   ]
  },
  {
   "cell_type": "code",
   "execution_count": 31,
   "metadata": {},
   "outputs": [],
   "source": [
    "if not os.path.exists('subdir'):   # os.path.exists 모듈로 기존 디렉터리의 존재 여부를 확인\n",
    "    os.mkdir('subdir')"
   ]
  },
  {
   "source": [
    "- dream.txt의 홀수번째 라인을 subdir/ dream_odd.txt에 쓰기"
   ],
   "cell_type": "markdown",
   "metadata": {}
  },
  {
   "cell_type": "code",
   "execution_count": 38,
   "metadata": {},
   "outputs": [],
   "source": [
    "with open('dream.txt', 'r') as rf:\n",
    "    lines = rf.readlines()\n",
    "\n",
    "if not os.path.exists('subdir'):\n",
    "    os.mkdir('subdir')\n",
    "\n",
    "with open('subdir/dream_odd.txt', 'w') as wf:\n",
    "    for index,line in enumerate(lines):\n",
    "        if index % 2 == 0:\n",
    "            wf.write(line)"
   ]
  },
  {
   "source": [
    "- binary data- pickle 모듈 활용"
   ],
   "cell_type": "markdown",
   "metadata": {}
  },
  {
   "cell_type": "code",
   "execution_count": 39,
   "metadata": {},
   "outputs": [],
   "source": [
    "test_list = [1, True, 3.14, 'String']"
   ]
  },
  {
   "cell_type": "code",
   "execution_count": 40,
   "metadata": {},
   "outputs": [],
   "source": [
    "import pickle\n",
    "\n",
    "with open('list.pickle', 'wb') as bf:   # b : 바이너리 파일\n",
    "    pickle.dump(test_list, bf)  # dump() 함수에서는 저장할 객체, 저장될 파일 객체를 차례대로 인수로 넣으면 해당 객체가 해당 파일에 저장됨"
   ]
  },
  {
   "cell_type": "code",
   "execution_count": 41,
   "metadata": {},
   "outputs": [
    {
     "output_type": "execute_result",
     "data": {
      "text/plain": [
       "[1, True, 3.14, 'String']"
      ]
     },
     "metadata": {},
     "execution_count": 41
    }
   ],
   "source": [
    "with open('list.pickle', 'rb') as bf:\n",
    "    x = pickle.load(bf)\n",
    "x"
   ]
  }
 ]
}