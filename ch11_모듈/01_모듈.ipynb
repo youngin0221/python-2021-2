{
 "metadata": {
  "language_info": {
   "codemirror_mode": {
    "name": "ipython",
    "version": 3
   },
   "file_extension": ".py",
   "mimetype": "text/x-python",
   "name": "python",
   "nbconvert_exporter": "python",
   "pygments_lexer": "ipython3",
   "version": "3.8.5"
  },
  "orig_nbformat": 2,
  "kernelspec": {
   "name": "python385jvsc74a57bd08c1eae21719a0790335dcb83aad72b63b602cfe5cdb2bda0f60bc11d4f154e4b",
   "display_name": "Python 3.8.5 64-bit ('base': conda)"
  }
 },
 "nbformat": 4,
 "nbformat_minor": 2,
 "cells": [
  {
   "source": [
    "# 11장. 모듈과 패키지"
   ],
   "cell_type": "markdown",
   "metadata": {}
  },
  {
   "source": [
    "### - 모듈 만들기"
   ],
   "cell_type": "markdown",
   "metadata": {}
  },
  {
   "cell_type": "code",
   "execution_count": 1,
   "metadata": {},
   "outputs": [],
   "source": [
    "def convert_c2f(celcius_value):\n",
    "    return celcius_value * 9. / 5 + 32"
   ]
  },
  {
   "cell_type": "code",
   "execution_count": 5,
   "metadata": {},
   "outputs": [
    {
     "output_type": "stream",
     "name": "stdout",
     "text": [
      "섭씨 온도: 15.1, 화씨 온도: 59.2\n"
     ]
    }
   ],
   "source": [
    "celcius = float(input('섭씨온도'))\n",
    "fahrenheit = convert_c2f(celcius)\n",
    "print(f'섭씨 온도: {celcius:.1f}, 화씨 온도: {fahrenheit:.1f}')"
   ]
  },
  {
   "cell_type": "code",
   "execution_count": 6,
   "metadata": {},
   "outputs": [
    {
     "output_type": "stream",
     "name": "stdout",
     "text": [
      "섭씨 온도: 17.0, 화씨 온도: 62.6\n"
     ]
    }
   ],
   "source": [
    "import module1  # .py 파일로 먼저 모듈생성 후\n",
    "\n",
    "celcius = float(input('섭씨온도'))\n",
    "fahrenheit = module1.convert_c2f_m(celcius)\n",
    "print(f'섭씨 온도: {celcius:.1f}, 화씨 온도: {fahrenheit:.1f}')"
   ]
  },
  {
   "cell_type": "code",
   "execution_count": 7,
   "metadata": {},
   "outputs": [
    {
     "output_type": "stream",
     "name": "stdout",
     "text": [
      "섭씨 온도: 19.0, 화씨 온도: 66.2\n"
     ]
    }
   ],
   "source": [
    "import module1 as m1   # as - alias, 축약명칭\n",
    "\n",
    "celcius = float(input('섭씨온도'))\n",
    "fahrenheit = m1.convert_c2f_m(celcius)\n",
    "print(f'섭씨 온도: {celcius:.1f}, 화씨 온도: {fahrenheit:.1f}')"
   ]
  },
  {
   "cell_type": "code",
   "execution_count": 8,
   "metadata": {},
   "outputs": [
    {
     "output_type": "stream",
     "name": "stdout",
     "text": [
      "섭씨 온도: 21.0, 화씨 온도: 69.8\n"
     ]
    }
   ],
   "source": [
    "from module1 import convert_c2f_m\n",
    "\n",
    "celcius = float(input('섭씨온도'))\n",
    "fahrenheit = convert_c2f_m(celcius)\n",
    "print(f'섭씨 온도: {celcius:.1f}, 화씨 온도: {fahrenheit:.1f}')"
   ]
  },
  {
   "cell_type": "code",
   "execution_count": 13,
   "metadata": {},
   "outputs": [
    {
     "output_type": "stream",
     "name": "stdout",
     "text": [
      "화씨 온도: 100.0, 섭씨 온도: 37.8\n"
     ]
    }
   ],
   "source": [
    "from module1 import *\n",
    "\n",
    "fahrenheit = float(input('화씨온도'))\n",
    "celcius = convert_f2c_m(fahrenheit)\n",
    "print(f'화씨 온도: {fahrenheit:.1f}, 섭씨 온도: {celcius:.1f}')"
   ]
  },
  {
   "cell_type": "code",
   "execution_count": null,
   "metadata": {},
   "outputs": [],
   "source": [
    "import module.module1 as mm1\n",
    "mmm1"
   ]
  },
  {
   "source": [
    "### - 내장 모듈"
   ],
   "cell_type": "markdown",
   "metadata": {}
  },
  {
   "cell_type": "code",
   "execution_count": 12,
   "metadata": {},
   "outputs": [
    {
     "output_type": "execute_result",
     "data": {
      "text/plain": [
       "(0.8363375023320742, 180)"
      ]
     },
     "metadata": {},
     "execution_count": 12
    }
   ],
   "source": [
    "import random\n",
    "random.seed(2021)\n",
    "random.random(), random.randint(100,200)"
   ]
  }
 ]
}