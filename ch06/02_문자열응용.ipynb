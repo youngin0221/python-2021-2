{
 "metadata": {
  "language_info": {
   "codemirror_mode": {
    "name": "ipython",
    "version": 3
   },
   "file_extension": ".py",
   "mimetype": "text/x-python",
   "name": "python",
   "nbconvert_exporter": "python",
   "pygments_lexer": "ipython3",
   "version": "3.8.5"
  },
  "orig_nbformat": 2,
  "kernelspec": {
   "name": "python385jvsc74a57bd08c1eae21719a0790335dcb83aad72b63b602cfe5cdb2bda0f60bc11d4f154e4b",
   "display_name": "Python 3.8.5 64-bit ('base': conda)"
  }
 },
 "nbformat": 4,
 "nbformat_minor": 2,
 "cells": [
  {
   "source": [
    "## 문자열 응용"
   ],
   "cell_type": "markdown",
   "metadata": {}
  },
  {
   "source": [
    "### - 단어 카운팅"
   ],
   "cell_type": "markdown",
   "metadata": {}
  },
  {
   "cell_type": "code",
   "execution_count": 1,
   "metadata": {},
   "outputs": [],
   "source": [
    "import requests\n",
    "\n",
    "base_url = 'http://api.github.com/repos'\n",
    "user_name = 'TeamLab'\n",
    "repo_name = 'introduction_to_python_TEAMLAB_MOOC'\n",
    "path_name = 'code/6/yesterday.txt'\n",
    "url = f'{base_url}/{user_name}/{repo_name}/contents/{path_name}'\n",
    "req = requests.get(url)"
   ]
  },
  {
   "cell_type": "code",
   "execution_count": 2,
   "metadata": {},
   "outputs": [
    {
     "output_type": "execute_result",
     "data": {
      "text/plain": [
       "200"
      ]
     },
     "metadata": {},
     "execution_count": 2
    }
   ],
   "source": [
    "req.status_code"
   ]
  },
  {
   "cell_type": "code",
   "execution_count": 3,
   "metadata": {},
   "outputs": [
    {
     "output_type": "execute_result",
     "data": {
      "text/plain": [
       "b'{\"name\":\"yesterday.txt\",\"path\":\"code/6/yesterday.txt\",\"sha\":\"eb2fd6fc6e8fd51df6c5c15582f687c82462bd75\",\"size\":638,\"url\":\"https://api.github.com/repos/TeamLab/introduction_to_python_TEAMLAB_MOOC/contents/code/6/yesterday.txt?ref=master\",\"html_url\":\"https://github.com/TeamLab/introduction_to_python_TEAMLAB_MOOC/blob/master/code/6/yesterday.txt\",\"git_url\":\"https://api.github.com/repos/TeamLab/introduction_to_python_TEAMLAB_MOOC/git/blobs/eb2fd6fc6e8fd51df6c5c15582f687c82462bd75\",\"download_url\":\"https://raw.githubusercontent.com/TeamLab/introduction_to_python_TEAMLAB_MOOC/master/code/6/yesterday.txt\",\"type\":\"file\",\"content\":\"WWVzdGVyZGF5LCBhbGwgbXkgdHJvdWJsZXMgc2VlbWVkIHNvIGZhciBhd2F5\\\\nCk5vdyBpdCBsb29rcyBhcyB0aG91Z2ggdGhleSdyZSBoZXJlIHRvIHN0YXkK\\\\nb2gsIEkgYmVsaWV2ZSBpbiB5ZXN0ZXJkYXkKClN1ZGRlbmx5LCBJJ20gbm90\\\\nIGhhbGYgdGhlIG1hbiBJIHVzZWQgdG8gYmUKVGhlcmUncyBhIHNoYWRvdyBo\\\\nYW5naW5nIG92ZXIgbWUKT2gsIHllc3RlcmRheSBjYW1lIHN1ZGRlbmx5LgoK\\\\nV2h5IHNoZSBoYWQgdG8gZ28/CkkgZG9uJ3Qga25vdywgc2hlIHdvdWxkbid0\\\\nIHNheQpJIHNhaWQgc29tZXRoaW5nIHdyb25nCk5vdyBJIGxvbmcgZm9yIHll\\\\nc3RlcmRheS4KClllc3RlcmRheSBsb3ZlIHdhcyBzdWNoIGFuIGVhc3kgZ2Ft\\\\nZSB0byBwbGF5Ck5vdyBJIG5lZWQgYSBwbGFjZSB0byBoaWRlIGF3YXkKT2gs\\\\nIEkgYmVsaWV2ZSBpbiB5ZXN0ZXJkYXkuCgpXaHkgc2hlIGhhZCB0byBnbz8K\\\\nSSBkb24ndCBrbm93LCBzaGUgd291bGRuJ3Qgc2F5Ckkgc2FpZCBzb21ldGhp\\\\nbmcgd3JvbmcKTm93IEkgbG9uZyBmb3IgeWVzdGVyZGF5LgoKWWVzdGVyZGF5\\\\nIGxvdmUgd2FzIHN1Y2ggYW4gZWFzeSBnYW1lIHRvIHBsYXkKTm93IEkgbmVl\\\\nZCBhIHBsYWNlIHRvIGhpZGUgYXdheQpPaCwgSSBiZWxpZXZlIGluIHllc3Rl\\\\ncmRheS4uLgo=\\\\n\",\"encoding\":\"base64\",\"_links\":{\"self\":\"https://api.github.com/repos/TeamLab/introduction_to_python_TEAMLAB_MOOC/contents/code/6/yesterday.txt?ref=master\",\"git\":\"https://api.github.com/repos/TeamLab/introduction_to_python_TEAMLAB_MOOC/git/blobs/eb2fd6fc6e8fd51df6c5c15582f687c82462bd75\",\"html\":\"https://github.com/TeamLab/introduction_to_python_TEAMLAB_MOOC/blob/master/code/6/yesterday.txt\"}}'"
      ]
     },
     "metadata": {},
     "execution_count": 3
    }
   ],
   "source": [
    "req.content"
   ]
  },
  {
   "cell_type": "code",
   "execution_count": 5,
   "metadata": {},
   "outputs": [
    {
     "output_type": "execute_result",
     "data": {
      "text/plain": [
       "{'name': 'yesterday.txt',\n",
       " 'path': 'code/6/yesterday.txt',\n",
       " 'sha': 'eb2fd6fc6e8fd51df6c5c15582f687c82462bd75',\n",
       " 'size': 638,\n",
       " 'url': 'https://api.github.com/repos/TeamLab/introduction_to_python_TEAMLAB_MOOC/contents/code/6/yesterday.txt?ref=master',\n",
       " 'html_url': 'https://github.com/TeamLab/introduction_to_python_TEAMLAB_MOOC/blob/master/code/6/yesterday.txt',\n",
       " 'git_url': 'https://api.github.com/repos/TeamLab/introduction_to_python_TEAMLAB_MOOC/git/blobs/eb2fd6fc6e8fd51df6c5c15582f687c82462bd75',\n",
       " 'download_url': 'https://raw.githubusercontent.com/TeamLab/introduction_to_python_TEAMLAB_MOOC/master/code/6/yesterday.txt',\n",
       " 'type': 'file',\n",
       " 'content': 'WWVzdGVyZGF5LCBhbGwgbXkgdHJvdWJsZXMgc2VlbWVkIHNvIGZhciBhd2F5\\nCk5vdyBpdCBsb29rcyBhcyB0aG91Z2ggdGhleSdyZSBoZXJlIHRvIHN0YXkK\\nb2gsIEkgYmVsaWV2ZSBpbiB5ZXN0ZXJkYXkKClN1ZGRlbmx5LCBJJ20gbm90\\nIGhhbGYgdGhlIG1hbiBJIHVzZWQgdG8gYmUKVGhlcmUncyBhIHNoYWRvdyBo\\nYW5naW5nIG92ZXIgbWUKT2gsIHllc3RlcmRheSBjYW1lIHN1ZGRlbmx5LgoK\\nV2h5IHNoZSBoYWQgdG8gZ28/CkkgZG9uJ3Qga25vdywgc2hlIHdvdWxkbid0\\nIHNheQpJIHNhaWQgc29tZXRoaW5nIHdyb25nCk5vdyBJIGxvbmcgZm9yIHll\\nc3RlcmRheS4KClllc3RlcmRheSBsb3ZlIHdhcyBzdWNoIGFuIGVhc3kgZ2Ft\\nZSB0byBwbGF5Ck5vdyBJIG5lZWQgYSBwbGFjZSB0byBoaWRlIGF3YXkKT2gs\\nIEkgYmVsaWV2ZSBpbiB5ZXN0ZXJkYXkuCgpXaHkgc2hlIGhhZCB0byBnbz8K\\nSSBkb24ndCBrbm93LCBzaGUgd291bGRuJ3Qgc2F5Ckkgc2FpZCBzb21ldGhp\\nbmcgd3JvbmcKTm93IEkgbG9uZyBmb3IgeWVzdGVyZGF5LgoKWWVzdGVyZGF5\\nIGxvdmUgd2FzIHN1Y2ggYW4gZWFzeSBnYW1lIHRvIHBsYXkKTm93IEkgbmVl\\nZCBhIHBsYWNlIHRvIGhpZGUgYXdheQpPaCwgSSBiZWxpZXZlIGluIHllc3Rl\\ncmRheS4uLgo=\\n',\n",
       " 'encoding': 'base64',\n",
       " '_links': {'self': 'https://api.github.com/repos/TeamLab/introduction_to_python_TEAMLAB_MOOC/contents/code/6/yesterday.txt?ref=master',\n",
       "  'git': 'https://api.github.com/repos/TeamLab/introduction_to_python_TEAMLAB_MOOC/git/blobs/eb2fd6fc6e8fd51df6c5c15582f687c82462bd75',\n",
       "  'html': 'https://github.com/TeamLab/introduction_to_python_TEAMLAB_MOOC/blob/master/code/6/yesterday.txt'}}"
      ]
     },
     "metadata": {},
     "execution_count": 5
    }
   ],
   "source": [
    "parsed_req = req.json()\n",
    "parsed_req"
   ]
  },
  {
   "cell_type": "code",
   "execution_count": 7,
   "metadata": {},
   "outputs": [
    {
     "output_type": "stream",
     "name": "stdout",
     "text": [
      "b\"Yesterday, all my troubles seemed so far away\\nNow it looks as though they're here to stay\\noh, I believe in yesterday\\n\\nSuddenly, I'm not half the man I used to be\\nThere's a shadow hanging over me\\nOh, yesterday came suddenly.\\n\\nWhy she had to go?\\nI don't know, she wouldn't say\\nI said something wrong\\nNow I long for yesterday.\\n\\nYesterday love was such an easy game to play\\nNow I need a place to hide away\\nOh, I believe in yesterday.\\n\\nWhy she had to go?\\nI don't know, she wouldn't say\\nI said something wrong\\nNow I long for yesterday.\\n\\nYesterday love was such an easy game to play\\nNow I need a place to hide away\\nOh, I believe in yesterday...\\n\"\n"
     ]
    }
   ],
   "source": [
    "import base64\n",
    "byte_content = base64.b64decode(parsed_req['content'])\n",
    "print(byte_content)"
   ]
  },
  {
   "cell_type": "code",
   "execution_count": 8,
   "metadata": {},
   "outputs": [
    {
     "output_type": "stream",
     "name": "stdout",
     "text": [
      "Yesterday, all my troubles seemed so far away\nNow it looks as though they're here to stay\noh, I believe in yesterday\n\nSuddenly, I'm not half the man I used to be\nThere's a shadow hanging over me\nOh, yesterday came suddenly.\n\nWhy she had to go?\nI don't know, she wouldn't say\nI said something wrong\nNow I long for yesterday.\n\nYesterday love was such an easy game to play\nNow I need a place to hide away\nOh, I believe in yesterday.\n\nWhy she had to go?\nI don't know, she wouldn't say\nI said something wrong\nNow I long for yesterday.\n\nYesterday love was such an easy game to play\nNow I need a place to hide away\nOh, I believe in yesterday...\n\n"
     ]
    }
   ],
   "source": [
    "lyrics = byte_content.decode()\n",
    "print(lyrics)"
   ]
  },
  {
   "cell_type": "code",
   "execution_count": 10,
   "metadata": {},
   "outputs": [
    {
     "output_type": "execute_result",
     "data": {
      "text/plain": [
       "9"
      ]
     },
     "metadata": {},
     "execution_count": 10
    }
   ],
   "source": [
    "n_of_yesterday = lyrics.lower().count('yesterday')  # 'yesterday'가 몇 번이나 나오는가\n",
    "n_of_yesterday"
   ]
  },
  {
   "source": [
    "### 문자열 <-> Ascii code 변환\n",
    "- ord()\n",
    "- chr()"
   ],
   "cell_type": "markdown",
   "metadata": {}
  },
  {
   "cell_type": "code",
   "execution_count": 11,
   "metadata": {},
   "outputs": [
    {
     "output_type": "execute_result",
     "data": {
      "text/plain": [
       "65"
      ]
     },
     "metadata": {},
     "execution_count": 11
    }
   ],
   "source": [
    "ord('A')   # 0x41 : 65"
   ]
  },
  {
   "cell_type": "code",
   "execution_count": 12,
   "metadata": {},
   "outputs": [
    {
     "output_type": "execute_result",
     "data": {
      "text/plain": [
       "'B'"
      ]
     },
     "metadata": {},
     "execution_count": 12
    }
   ],
   "source": [
    "chr(ord('A')+1)"
   ]
  },
  {
   "cell_type": "code",
   "execution_count": null,
   "metadata": {},
   "outputs": [],
   "source": [
    "시저 암호는 고대 로마의 황제 줄리어스 시저가 만들어 낸 암호인데,\n",
    "예를 들어 알파벳 A를 입력했을 때, 그 알파벳의 n개 뒤에 오는 알파벳이 출력되는 것이다.\n",
    "예를 들어 바꾸려는 단어가 \"CAT\"이고, n을 5로 지정하였을 때 \"HFY\"가 되는 것이다.\n",
    "어떠한 암호를 만들 문장과 n을 입력했을 때 암호를 만들어 출력하는 프로그램을 작성하시오.\n",
    "\n",
    "-입력 : 화면에서 문자열과 n값을 입력받는다. (예 : ROSE 5)\n",
    "-출력 : 암호화된 문자열을 출력"
   ]
  },
  {
   "cell_type": "code",
   "execution_count": 15,
   "metadata": {},
   "outputs": [
    {
     "output_type": "execute_result",
     "data": {
      "text/plain": [
       "'HFY'"
      ]
     },
     "metadata": {},
     "execution_count": 15
    }
   ],
   "source": [
    "word = chr(ord('C')+5) + chr(ord('A')+5) + chr(ord('T')+5)\n",
    "word"
   ]
  },
  {
   "cell_type": "code",
   "execution_count": 18,
   "metadata": {},
   "outputs": [
    {
     "output_type": "execute_result",
     "data": {
      "text/plain": [
       "'HFY'"
      ]
     },
     "metadata": {},
     "execution_count": 18
    }
   ],
   "source": [
    "word = ''\n",
    "for c in 'CAT':\n",
    "    word += chr(ord(c)+5)\n",
    "word"
   ]
  },
  {
   "cell_type": "code",
   "execution_count": 22,
   "metadata": {},
   "outputs": [
    {
     "output_type": "execute_result",
     "data": {
      "text/plain": [
       "'HFY'"
      ]
     },
     "metadata": {},
     "execution_count": 22
    }
   ],
   "source": [
    "word = ''.join(chr(ord(c)+5) for c in 'CAT')   # encording\n",
    "word"
   ]
  },
  {
   "cell_type": "code",
   "execution_count": 24,
   "metadata": {},
   "outputs": [
    {
     "output_type": "execute_result",
     "data": {
      "text/plain": [
       "'CAT'"
      ]
     },
     "metadata": {},
     "execution_count": 24
    }
   ],
   "source": [
    "word = chr(ord('H')-5) + chr(ord('F')-5) + chr(ord('Y')-5)  # decording\n",
    "word"
   ]
  },
  {
   "cell_type": "code",
   "execution_count": 23,
   "metadata": {},
   "outputs": [
    {
     "output_type": "execute_result",
     "data": {
      "text/plain": [
       "']^_'"
      ]
     },
     "metadata": {},
     "execution_count": 23
    }
   ],
   "source": [
    "word = chr(ord('X')+5) + chr(ord('Y')+5) + chr(ord('Z')+5)\n",
    "word"
   ]
  },
  {
   "source": [
    "### - 문자열 포맷"
   ],
   "cell_type": "markdown",
   "metadata": {}
  },
  {
   "cell_type": "code",
   "execution_count": 26,
   "metadata": {},
   "outputs": [
    {
     "output_type": "execute_result",
     "data": {
      "text/plain": [
       "'3.141592653589793,3.142'"
      ]
     },
     "metadata": {},
     "execution_count": 26
    }
   ],
   "source": [
    "import math\n",
    "a = f'{math.pi},{math.pi:.3f}' # :.3f - 소수점 세번째 자리까지 반올림하여 출력\n",
    "a"
   ]
  },
  {
   "cell_type": "code",
   "execution_count": 27,
   "metadata": {},
   "outputs": [
    {
     "output_type": "execute_result",
     "data": {
      "text/plain": [
       "'10,000'"
      ]
     },
     "metadata": {},
     "execution_count": 27
    }
   ],
   "source": [
    "b = f'{10000:,}'  # :, - 천단위 구분기호\n",
    "b"
   ]
  }
 ]
}