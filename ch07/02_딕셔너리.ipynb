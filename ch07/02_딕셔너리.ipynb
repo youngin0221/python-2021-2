{
 "metadata": {
  "language_info": {
   "codemirror_mode": {
    "name": "ipython",
    "version": 3
   },
   "file_extension": ".py",
   "mimetype": "text/x-python",
   "name": "python",
   "nbconvert_exporter": "python",
   "pygments_lexer": "ipython3",
   "version": "3.8.5"
  },
  "orig_nbformat": 2,
  "kernelspec": {
   "name": "python385jvsc74a57bd08c1eae21719a0790335dcb83aad72b63b602cfe5cdb2bda0f60bc11d4f154e4b",
   "display_name": "Python 3.8.5 64-bit ('base': conda)"
  }
 },
 "nbformat": 4,
 "nbformat_minor": 2,
 "cells": [
  {
   "source": [
    " # 딕셔너리(Dictionaty)\n",
    " - 데이터의 유일한 구분자를 키라는 이름으로 검색할 수 있게 하고, 실제 데이터 값이라는 이름으로 쌍으로 저장하여 프로그래머가 데이터를 쉽게 찾을 수 있는 체계를 마련해 준다."
   ],
   "cell_type": "markdown",
   "metadata": {}
  },
  {
   "source": [
    "### - 딕셔너리 만들기(c)"
   ],
   "cell_type": "markdown",
   "metadata": {}
  },
  {
   "cell_type": "code",
   "execution_count": 1,
   "metadata": {},
   "outputs": [
    {
     "output_type": "execute_result",
     "data": {
      "text/plain": [
       "{'health': 490, 'mana': 334, 'melee': 550, 'armor': 18.72}"
      ]
     },
     "metadata": {},
     "execution_count": 1
    }
   ],
   "source": [
    "lux = {'health':490, 'mana':334, 'melee':550, 'armor': 18.72}  # 기본\n",
    "lux"
   ]
  },
  {
   "cell_type": "code",
   "execution_count": 2,
   "metadata": {},
   "outputs": [
    {
     "output_type": "execute_result",
     "data": {
      "text/plain": [
       "{'health': 490, 'mana': 334, 'melee': 550, 'armor': 18.72}"
      ]
     },
     "metadata": {},
     "execution_count": 2
    }
   ],
   "source": [
    "lux1 = dict(health=490, mana=334, melee=550, armor=18.72)  # dict()함수에 키=값\n",
    "lux1"
   ]
  },
  {
   "cell_type": "code",
   "execution_count": 3,
   "metadata": {},
   "outputs": [
    {
     "output_type": "execute_result",
     "data": {
      "text/plain": [
       "{'health': 490, 'mana': 334, 'melee': 550, 'armor': 18.72}"
      ]
     },
     "metadata": {},
     "execution_count": 3
    }
   ],
   "source": [
    "lux2 = dict([('health', 490), ('mana', 334), ('melee', 550), ('armor', 18.72)])  # 리스트에 튜플(키, 값)\n",
    "lux2 "
   ]
  },
  {
   "cell_type": "code",
   "execution_count": 4,
   "metadata": {},
   "outputs": [
    {
     "output_type": "execute_result",
     "data": {
      "text/plain": [
       "[('health', 490), ('mana', 334), ('melee', 550), ('armor', 18.72)]"
      ]
     },
     "metadata": {},
     "execution_count": 4
    }
   ],
   "source": [
    "key_list = ['health', 'mana', 'melee', 'armor']  # 리스트 값을 dict()함수에 넣기\n",
    "val_list = [490, 334, 550, 18.72]\n",
    "list(zip(key_list,val_list))"
   ]
  },
  {
   "cell_type": "code",
   "execution_count": 5,
   "metadata": {},
   "outputs": [
    {
     "output_type": "execute_result",
     "data": {
      "text/plain": [
       "{'health': 490, 'mana': 334, 'melee': 550, 'armor': 18.72}"
      ]
     },
     "metadata": {},
     "execution_count": 5
    }
   ],
   "source": [
    "lux3 = dict(zip(key_list, val_list))\n",
    "lux3"
   ]
  },
  {
   "source": [
    "### - 딕셔너리 참조하기(R)"
   ],
   "cell_type": "markdown",
   "metadata": {}
  },
  {
   "cell_type": "code",
   "execution_count": 6,
   "metadata": {},
   "outputs": [
    {
     "output_type": "execute_result",
     "data": {
      "text/plain": [
       "490"
      ]
     },
     "metadata": {},
     "execution_count": 6
    }
   ],
   "source": [
    "lux['health']"
   ]
  },
  {
   "source": [
    "### - 딕셔너리 값 변경하기(U)"
   ],
   "cell_type": "markdown",
   "metadata": {}
  },
  {
   "cell_type": "code",
   "execution_count": 7,
   "metadata": {},
   "outputs": [
    {
     "output_type": "execute_result",
     "data": {
      "text/plain": [
       "{'health': 600, 'mana': 334, 'melee': 550, 'armor': 18.72}"
      ]
     },
     "metadata": {},
     "execution_count": 7
    }
   ],
   "source": [
    "lux['health'] = 600\n",
    "lux"
   ]
  },
  {
   "cell_type": "code",
   "execution_count": 8,
   "metadata": {},
   "outputs": [
    {
     "output_type": "execute_result",
     "data": {
      "text/plain": [
       "{'health': 600, 'mana': 100, 'melee': 550, 'armor': 18.72}"
      ]
     },
     "metadata": {},
     "execution_count": 8
    }
   ],
   "source": [
    "lux['mana'] = 100\n",
    "lux"
   ]
  },
  {
   "cell_type": "code",
   "execution_count": 9,
   "metadata": {},
   "outputs": [
    {
     "output_type": "execute_result",
     "data": {
      "text/plain": [
       "{'health': 600, 'mana': 100, 'melee': 550, 'armor': 18.72, 'mana_regen': 3.28}"
      ]
     },
     "metadata": {},
     "execution_count": 9
    }
   ],
   "source": [
    "lux['mana_regen'] = 3.28  # 새로운 값 추가\n",
    "lux"
   ]
  },
  {
   "source": [
    "### - 딕셔너리 값 삭제하기(D)"
   ],
   "cell_type": "markdown",
   "metadata": {}
  },
  {
   "cell_type": "code",
   "execution_count": 10,
   "metadata": {},
   "outputs": [
    {
     "output_type": "execute_result",
     "data": {
      "text/plain": [
       "{'health': 600, 'mana': 100, 'melee': 550, 'armor': 18.72}"
      ]
     },
     "metadata": {},
     "execution_count": 10
    }
   ],
   "source": [
    "lux.pop('mana_regen')\n",
    "lux"
   ]
  },
  {
   "cell_type": "code",
   "execution_count": 11,
   "metadata": {},
   "outputs": [
    {
     "output_type": "execute_result",
     "data": {
      "text/plain": [
       "{'health': 600, 'mana': 100, 'melee': 550}"
      ]
     },
     "metadata": {},
     "execution_count": 11
    }
   ],
   "source": [
    "del lux['armor']\n",
    "lux"
   ]
  },
  {
   "source": [
    "### - 딕셔너리의 키/밸류 값들을 가져오기"
   ],
   "cell_type": "markdown",
   "metadata": {}
  },
  {
   "cell_type": "code",
   "execution_count": 12,
   "metadata": {},
   "outputs": [
    {
     "output_type": "execute_result",
     "data": {
      "text/plain": [
       "dict_keys(['health', 'mana', 'melee', 'armor'])"
      ]
     },
     "metadata": {},
     "execution_count": 12
    }
   ],
   "source": [
    "lux2.keys()"
   ]
  },
  {
   "cell_type": "code",
   "execution_count": 13,
   "metadata": {},
   "outputs": [
    {
     "output_type": "execute_result",
     "data": {
      "text/plain": [
       "dict_values([490, 334, 550, 18.72])"
      ]
     },
     "metadata": {},
     "execution_count": 13
    }
   ],
   "source": [
    "lux2.values()"
   ]
  },
  {
   "source": [
    "### - 딕셔너리 반복문"
   ],
   "cell_type": "markdown",
   "metadata": {}
  },
  {
   "cell_type": "code",
   "execution_count": 14,
   "metadata": {},
   "outputs": [
    {
     "output_type": "execute_result",
     "data": {
      "text/plain": [
       "dict_items([('health', 600), ('mana', 100), ('melee', 550)])"
      ]
     },
     "metadata": {},
     "execution_count": 14
    }
   ],
   "source": [
    "lux.items()"
   ]
  },
  {
   "cell_type": "code",
   "execution_count": 19,
   "metadata": {},
   "outputs": [
    {
     "output_type": "stream",
     "name": "stdout",
     "text": [
      "health 600\nmana 100\nmelee 550\n"
     ]
    }
   ],
   "source": [
    "for key, value in lux.items():\n",
    "    print(key, value)"
   ]
  },
  {
   "cell_type": "code",
   "execution_count": 16,
   "metadata": {},
   "outputs": [
    {
     "output_type": "stream",
     "name": "stdout",
     "text": [
      "health 600 600\nmana 100 100\nmelee 550 550\n"
     ]
    }
   ],
   "source": [
    "for key, value in lux.items():\n",
    "    print(key, value, lux[key])"
   ]
  },
  {
   "cell_type": "code",
   "execution_count": 18,
   "metadata": {},
   "outputs": [
    {
     "output_type": "stream",
     "name": "stdout",
     "text": [
      "health 600\nmana 100\nmelee 550\n"
     ]
    }
   ],
   "source": [
    "for key in lux.keys():\n",
    "    print(key,lux[key])"
   ]
  },
  {
   "cell_type": "code",
   "execution_count": null,
   "metadata": {},
   "outputs": [],
   "source": [
    "if lux\n",
    "~~~pop(key)"
   ]
  },
  {
   "source": [
    "### - 중첩 딕셔너리"
   ],
   "cell_type": "markdown",
   "metadata": {}
  },
  {
   "cell_type": "code",
   "execution_count": 21,
   "metadata": {},
   "outputs": [
    {
     "output_type": "stream",
     "name": "stdout",
     "text": [
      "6051.8\n"
     ]
    }
   ],
   "source": [
    "terrestrial_planet = {\n",
    "    'Mercury': {\n",
    "        'mean_radius': 2439.7,\n",
    "        'mass': 3.3022E+23,\n",
    "        'orbital_period': 87.969\n",
    "    },\n",
    "    'Venus': {\n",
    "        'mean_radius': 6051.8,\n",
    "        'mass': 4.8676E+24,\n",
    "        'orbital_period': 224.70069,\n",
    "    },\n",
    "    'Earth': {\n",
    "        'mean_radius': 6371.0,\n",
    "        'mass': 5.97219E+24,\n",
    "        'orbital_period': 365.25641,\n",
    "    },\n",
    "    'Mars': {\n",
    "        'mean_radius': 3389.5,\n",
    "        'mass': 6.4185E+23,\n",
    "        'orbital_period': 686.9600,\n",
    "    }\n",
    "}\n",
    " \n",
    "print(terrestrial_planet['Venus']['mean_radius'])    # 6051.8"
   ]
  },
  {
   "cell_type": "code",
   "execution_count": 22,
   "metadata": {},
   "outputs": [
    {
     "output_type": "execute_result",
     "data": {
      "text/plain": [
       "{'mean_radius': 6371.0, 'mass': 5.97219e+24, 'orbital_period': 365.25641}"
      ]
     },
     "metadata": {},
     "execution_count": 22
    }
   ],
   "source": [
    "terrestrial_planet['Earth']  # terrestrial_planet 안에 Earth라는 딕셔너리"
   ]
  },
  {
   "cell_type": "code",
   "execution_count": 25,
   "metadata": {},
   "outputs": [
    {
     "output_type": "execute_result",
     "data": {
      "text/plain": [
       "365.25641"
      ]
     },
     "metadata": {},
     "execution_count": 25
    }
   ],
   "source": [
    "terrestrial_planet['Earth']['orbital_period']  # 지구의 공전주기 값 가져오기"
   ]
  }
 ]
}