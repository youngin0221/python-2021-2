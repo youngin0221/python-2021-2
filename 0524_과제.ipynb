{
 "metadata": {
  "language_info": {
   "codemirror_mode": {
    "name": "ipython",
    "version": 3
   },
   "file_extension": ".py",
   "mimetype": "text/x-python",
   "name": "python",
   "nbconvert_exporter": "python",
   "pygments_lexer": "ipython3",
   "version": "3.8.5"
  },
  "orig_nbformat": 2,
  "kernelspec": {
   "name": "python385jvsc74a57bd08c1eae21719a0790335dcb83aad72b63b602cfe5cdb2bda0f60bc11d4f154e4b",
   "display_name": "Python 3.8.5 64-bit ('base': conda)"
  }
 },
 "nbformat": 4,
 "nbformat_minor": 2,
 "cells": [
  {
   "source": [
    "# 1. 조건문"
   ],
   "cell_type": "markdown",
   "metadata": {}
  },
  {
   "source": [
    "#### 1. 연도를 입력으로 받아 윤년인지 아닌지를 출력하는 프로그램을 작성하시오. 윤년은 연도가 4의 배수이면서, 100의 배수가 아닐 때 또는 400의 배수일 때이다. 예를들어, 2012년은 4의 배수라서 윤년이지만, 1900년은 4의 배수이지만, 100의 배수이기 때문에 윤년이 아니다. 하지만, 2000년은 400의 배수이기 때문에 윤년이다.)"
   ],
   "cell_type": "markdown",
   "metadata": {}
  },
  {
   "cell_type": "code",
   "execution_count": 20,
   "metadata": {},
   "outputs": [
    {
     "output_type": "stream",
     "name": "stdout",
     "text": [
      "1900 년은 윤년이 아닙니다.\n"
     ]
    }
   ],
   "source": [
    "year = int(input(\"년도를 입력하세요.\"))\n",
    "if (year % 4 == 0 and year % 100 != 0) or year % 400 ==0:\n",
    "    print(year, \"년은 윤년입니다.\")\n",
    "else:\n",
    "    print(year,\"년은 윤년이 아닙니다.\")"
   ]
  },
  {
   "source": [
    "#### 2. 본인의 생일을 1998 12 15 과 같이 년 월 일로 입력받아 오늘 날짜의 만 나이를 구하는 프로그램을 작성하시오.\n"
   ],
   "cell_type": "markdown",
   "metadata": {}
  },
  {
   "cell_type": "code",
   "execution_count": 15,
   "metadata": {},
   "outputs": [
    {
     "output_type": "stream",
     "name": "stdout",
     "text": [
      "23\n"
     ]
    }
   ],
   "source": [
    "year = int(input(\"태어난 년도를 입력하세요.\"))\n",
    "month = int(input(\"태어난 월을 입력하세요.\"))\n",
    "day = int(input(\"태어난 일을 입력하세요.\"))\n",
    "\n",
    "from datetime import date\n",
    "today = date.today()\n",
    "\n",
    "if month < today.month:\n",
    "    age = today.year - year\n",
    "elif month == today.month:\n",
    "    if day <= today.day:\n",
    "        age = today.year - year\n",
    "    else:\n",
    "        age = today.year - year -1\n",
    "else:\n",
    "    age= today.year - year -1\n",
    "print(age)"
   ]
  },
  {
   "source": [
    "#### 3. 세 자연수 a, b, c 가 피타고라스 정리 a2 + b2 = c2 를 만족하면 피타고라스 수라고 부른다. (여기서 a < b < c 이고 a + b > c)\n",
    "#### 예를 들면, 32 + 42 = 9 + 16 = 25 = 52 이므로 3, 4, 5는 피타고라스 수입니다.\n",
    "####  a + b + c = 1000 인 피타고라스 수를 구하시오. (답은 한가지 뿐이다.)\n"
   ],
   "cell_type": "markdown",
   "metadata": {}
  },
  {
   "cell_type": "code",
   "execution_count": null,
   "metadata": {},
   "outputs": [],
   "source": []
  },
  {
   "source": [
    "# 2. 반복문"
   ],
   "cell_type": "markdown",
   "metadata": {}
  },
  {
   "source": [
    "#### 1. (별 그리기)5이상 9이하의 홀수를 입력받아 다이아몬드 형태의 별을 출력하는 프로그램을 작성하시오."
   ],
   "cell_type": "markdown",
   "metadata": {}
  },
  {
   "cell_type": "code",
   "execution_count": 31,
   "metadata": {},
   "outputs": [
    {
     "output_type": "stream",
     "name": "stdout",
     "text": [
      "          \n         *\n        ***\n       *****\n      *******\n     *********\n    ***********\n   *************\n  ***************\n  ***************\n   *************\n    ***********\n     *********\n      *******\n       *****\n        ***\n         *\n"
     ]
    }
   ],
   "source": [
    "n=int(input(\"다이아몬드의 크기(숫자)를 입력하세요(5~9)\"))\n",
    "for i in range(n):\n",
    "    print(\" \"*(n-i),'*'*(2*i-1))\n",
    "for k in range(n-1,0,-1):\n",
    "    print(\" \"*(n-k),'*'*(2*k-1))"
   ]
  },
  {
   "source": [
    "#### 2. 디지털 시계에 하루동안(00:00~23:59) 3이 표시되는 시간을 초로 환산하면 총 몇 초(second) 일까요?\n"
   ],
   "cell_type": "markdown",
   "metadata": {}
  },
  {
   "cell_type": "code",
   "execution_count": 60,
   "metadata": {},
   "outputs": [
    {
     "output_type": "stream",
     "name": "stdout",
     "text": [
      "29700\n"
     ]
    }
   ],
   "source": [
    "s = 0\n",
    "for h in range(24):\n",
    "    if \"3\" in str(h): s += (60*60)\n",
    "    else:\n",
    "        for m in range(60):\n",
    "            if \"3\" in str(m): s += 60\n",
    "print(s)"
   ]
  },
  {
   "source": [
    "#### 3. 1~1000에서 각 숫자의 개수를 구하시오."
   ],
   "cell_type": "markdown",
   "metadata": {}
  },
  {
   "cell_type": "code",
   "execution_count": null,
   "metadata": {},
   "outputs": [],
   "source": []
  },
  {
   "source": [
    "#### 4. 자기 자신을 제외한 모든 양의 약수들의 합이 자기 자신이 되는 자연수를 완전수라고 한다. 예를 들면, 6과 28은 완전수이다.\n",
    "6=1+2+3         # 1,2,3은 각각 6의 약수\n",
    "\n",
    "28=1+2+4+7+14   # 1,2,4,7,14는 각각 28의 약수.\n",
    "\n",
    "입력으로 자연수 N을 받고, 출력으로 N 이하의 모든 완전수를 출력하는 코드를 작성하시오.\n"
   ],
   "cell_type": "markdown",
   "metadata": {}
  },
  {
   "cell_type": "code",
   "execution_count": 59,
   "metadata": {},
   "outputs": [
    {
     "output_type": "stream",
     "name": "stdout",
     "text": [
      "6\n28\n"
     ]
    }
   ],
   "source": [
    "n=int(input(\"자연수 N을 입력하세요.\"))\n",
    "sum=0\n",
    "for i in range(1,n+1):\n",
    "    sum=0\n",
    "    for k in range(1,i):\n",
    "        if i % k == 0:\n",
    "            sum += k\n",
    "    if sum == i:\n",
    "        print(sum)"
   ]
  },
  {
   "source": [
    "#### 5. 1부터 10까지 자연수를 각각 제곱해 더하면 다음과 같다 (제곱의 합).\n",
    "12 + 22 + ... + 102 = 385\n",
    "\n",
    "1부터 10을 먼저 더한 다음에 그 결과를 제곱하면 다음과 같습니다 (합의 제곱).\n",
    "(1 + 2 + ... + 10)2 = 552 = 3025\n",
    "\n",
    "따라서 1부터 10까지 자연수에 대해 \"합의 제곱\"과 \"제곱의 합\"의 차이는 3025 - 385 = 2640 이 된다.\n",
    "\n",
    "입력으로 자연수 N을 받아, 1부터 N까지 자연수에 대해 \"합의 제곱\"과 \"제곱의 합\"의 차이는 얼마인가?\n"
   ],
   "cell_type": "markdown",
   "metadata": {}
  },
  {
   "cell_type": "code",
   "execution_count": 46,
   "metadata": {},
   "outputs": [
    {
     "output_type": "stream",
     "name": "stdout",
     "text": [
      "10010\n"
     ]
    }
   ],
   "source": [
    "n=int(input(\"자연수 N을 입력하세요.\"))\n",
    "sum = 0\n",
    "square = 0\n",
    "\n",
    "for i in range(1,n):\n",
    "    sum += i\n",
    "    square += i **2\n",
    "sum = sum**2\n",
    "print(sum-square)"
   ]
  }
 ]
}