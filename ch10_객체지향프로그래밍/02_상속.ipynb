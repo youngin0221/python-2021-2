{
 "metadata": {
  "language_info": {
   "codemirror_mode": {
    "name": "ipython",
    "version": 3
   },
   "file_extension": ".py",
   "mimetype": "text/x-python",
   "name": "python",
   "nbconvert_exporter": "python",
   "pygments_lexer": "ipython3",
   "version": "3.8.5"
  },
  "orig_nbformat": 2,
  "kernelspec": {
   "name": "python385jvsc74a57bd08c1eae21719a0790335dcb83aad72b63b602cfe5cdb2bda0f60bc11d4f154e4b",
   "display_name": "Python 3.8.5 64-bit ('base': conda)"
  }
 },
 "nbformat": 4,
 "nbformat_minor": 2,
 "cells": [
  {
   "source": [
    "### 4. 상속"
   ],
   "cell_type": "markdown",
   "metadata": {}
  },
  {
   "cell_type": "code",
   "execution_count": 1,
   "metadata": {},
   "outputs": [],
   "source": [
    "class Person:\n",
    "    def greeting(self):\n",
    "        print('안녕하세요?')\n",
    "\n",
    "class Student(Person):\n",
    "    def study(self):\n",
    "        print('공부하기')"
   ]
  },
  {
   "cell_type": "code",
   "execution_count": 2,
   "metadata": {},
   "outputs": [
    {
     "output_type": "stream",
     "name": "stdout",
     "text": [
      "안녕하세요?\n공부하기\n"
     ]
    }
   ],
   "source": [
    "james = Student()\n",
    "james.greeting()\n",
    "james.study()"
   ]
  },
  {
   "source": [
    "- 기반 클래스의 속성값 사용하기"
   ],
   "cell_type": "markdown",
   "metadata": {}
  },
  {
   "cell_type": "code",
   "execution_count": 3,
   "metadata": {},
   "outputs": [],
   "source": [
    "class Person2:\n",
    "    def __init__(self):\n",
    "        print('Person2 __init__ method')\n",
    "        self.hello = '안녕하세요?'\n",
    "\n",
    "class Student2(Person2):\n",
    "    def __init__(self):\n",
    "        print('Student2 __init__ method')\n",
    "        self.school = '파이썬'"
   ]
  },
  {
   "cell_type": "code",
   "execution_count": 4,
   "metadata": {},
   "outputs": [
    {
     "output_type": "stream",
     "name": "stdout",
     "text": [
      "Student2 __init__ method\n"
     ]
    },
    {
     "output_type": "execute_result",
     "data": {
      "text/plain": [
       "'파이썬'"
      ]
     },
     "metadata": {},
     "execution_count": 4
    }
   ],
   "source": [
    "maria = Student2()\n",
    "maria.school"
   ]
  },
  {
   "cell_type": "code",
   "execution_count": 5,
   "metadata": {},
   "outputs": [
    {
     "output_type": "error",
     "ename": "AttributeError",
     "evalue": "'Student2' object has no attribute 'hello'",
     "traceback": [
      "\u001b[1;31m---------------------------------------------------------------------------\u001b[0m",
      "\u001b[1;31mAttributeError\u001b[0m                            Traceback (most recent call last)",
      "\u001b[1;32m<ipython-input-5-8d4be38e5301>\u001b[0m in \u001b[0;36m<module>\u001b[1;34m\u001b[0m\n\u001b[1;32m----> 1\u001b[1;33m \u001b[0mmaria\u001b[0m\u001b[1;33m.\u001b[0m\u001b[0mhello\u001b[0m\u001b[1;33m\u001b[0m\u001b[1;33m\u001b[0m\u001b[0m\n\u001b[0m",
      "\u001b[1;31mAttributeError\u001b[0m: 'Student2' object has no attribute 'hello'"
     ]
    }
   ],
   "source": [
    "maria.hello"
   ]
  },
  {
   "cell_type": "code",
   "execution_count": null,
   "metadata": {},
   "outputs": [],
   "source": [
    "class Person3:\n",
    "    def __init__(self):\n",
    "        print('Person3 __init__ method')\n",
    "        self.hello = '안녕하세요?'\n",
    "\n",
    "class Student3(Person3):\n",
    "    def __init__(self):\n",
    "        super().__init__()\n",
    "        print('Student3 __init__ method')\n",
    "        self.school = '파이썬'"
   ]
  },
  {
   "cell_type": "code",
   "execution_count": null,
   "metadata": {},
   "outputs": [],
   "source": [
    "james = Student3()\n",
    "james.hello"
   ]
  },
  {
   "cell_type": "code",
   "execution_count": null,
   "metadata": {},
   "outputs": [],
   "source": [
    "class Student4(Person3):\n",
    "    def greeting(self):\n",
    "        print(self.hello)"
   ]
  },
  {
   "cell_type": "code",
   "execution_count": null,
   "metadata": {},
   "outputs": [],
   "source": [
    "maria = Student4()\n",
    "maria.greeting()"
   ]
  },
  {
   "source": [
    "### 5. Method Overriding"
   ],
   "cell_type": "markdown",
   "metadata": {}
  },
  {
   "cell_type": "code",
   "execution_count": 6,
   "metadata": {},
   "outputs": [],
   "source": [
    "class Person5:\n",
    "    def greeting(self):\n",
    "        print('안녕하세요?')\n",
    "\n",
    "class Student5(Person5):\n",
    "    def greeting(self):\n",
    "        print('안녕하세요? 저는 학생입니다.')"
   ]
  },
  {
   "cell_type": "code",
   "execution_count": 7,
   "metadata": {},
   "outputs": [
    {
     "output_type": "stream",
     "name": "stdout",
     "text": [
      "안녕하세요? 저는 학생입니다.\n"
     ]
    }
   ],
   "source": [
    "james = Student5()\n",
    "james.greeting()"
   ]
  },
  {
   "cell_type": "code",
   "execution_count": 8,
   "metadata": {},
   "outputs": [],
   "source": [
    "class Student6(Person5):\n",
    "    def greeting(self):\n",
    "        super().greeting()\n",
    "        print('저는 학생입니다.')"
   ]
  },
  {
   "cell_type": "code",
   "execution_count": 9,
   "metadata": {},
   "outputs": [
    {
     "output_type": "stream",
     "name": "stdout",
     "text": [
      "안녕하세요?\n저는 학생입니다.\n"
     ]
    }
   ],
   "source": [
    "maria = Student6()\n",
    "maria.greeting()"
   ]
  }
 ]
}