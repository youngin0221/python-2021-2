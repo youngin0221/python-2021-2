{
 "metadata": {
  "language_info": {
   "codemirror_mode": {
    "name": "ipython",
    "version": 3
   },
   "file_extension": ".py",
   "mimetype": "text/x-python",
   "name": "python",
   "nbconvert_exporter": "python",
   "pygments_lexer": "ipython3",
   "version": "3.8.5"
  },
  "orig_nbformat": 2,
  "kernelspec": {
   "name": "python385jvsc74a57bd08c1eae21719a0790335dcb83aad72b63b602cfe5cdb2bda0f60bc11d4f154e4b",
   "display_name": "Python 3.8.5 64-bit ('CPB06GameN': virtualenv)"
  }
 },
 "nbformat": 4,
 "nbformat_minor": 2,
 "cells": [
  {
   "source": [
    "## 4. 리스트의 이해"
   ],
   "cell_type": "markdown",
   "metadata": {}
  },
  {
   "cell_type": "code",
   "execution_count": 1,
   "metadata": {},
   "outputs": [],
   "source": [
    "# 다양한 타입\n",
    "colors = [\"red\", \"green\", \"blue\", 0xfffff]    # 0x : 16진수로 표현 \n"
   ]
  },
  {
   "source": [
    "#### - 인덱싱"
   ],
   "cell_type": "markdown",
   "metadata": {}
  },
  {
   "cell_type": "code",
   "execution_count": 2,
   "metadata": {},
   "outputs": [
    {
     "output_type": "execute_result",
     "data": {
      "text/plain": [
       "('red', 'red')"
      ]
     },
     "metadata": {},
     "execution_count": 2
    }
   ],
   "source": [
    "colors[0], colors[-4]"
   ]
  },
  {
   "cell_type": "code",
   "execution_count": 3,
   "metadata": {},
   "outputs": [
    {
     "output_type": "execute_result",
     "data": {
      "text/plain": [
       "('blue', 'blue')"
      ]
     },
     "metadata": {},
     "execution_count": 3
    }
   ],
   "source": [
    "colors[2], colors[-2]"
   ]
  },
  {
   "source": [
    "#### - 슬라이싱"
   ],
   "cell_type": "markdown",
   "metadata": {}
  },
  {
   "cell_type": "code",
   "execution_count": 4,
   "metadata": {},
   "outputs": [
    {
     "output_type": "execute_result",
     "data": {
      "text/plain": [
       "['서울', '부산', '인천']"
      ]
     },
     "metadata": {},
     "execution_count": 4
    }
   ],
   "source": [
    "cities =[\"서울\", \"부산\", \"인천\", \"대구\", \"대전\", \"광주\", \"울산\", \"세종\"]\n",
    "cities[0:3] "
   ]
  },
  {
   "cell_type": "code",
   "execution_count": 5,
   "metadata": {},
   "outputs": [
    {
     "output_type": "execute_result",
     "data": {
      "text/plain": [
       "['서울', '부산', '인천']"
      ]
     },
     "metadata": {},
     "execution_count": 5
    }
   ],
   "source": [
    "# 시작의 0은 생략가능\n",
    "cities[:3]"
   ]
  },
  {
   "cell_type": "code",
   "execution_count": 6,
   "metadata": {},
   "outputs": [
    {
     "output_type": "execute_result",
     "data": {
      "text/plain": [
       "(['광주', '울산', '세종'], ['광주', '울산'])"
      ]
     },
     "metadata": {},
     "execution_count": 6
    }
   ],
   "source": [
    "cities[5:], cities[5:-1]   # -1쓰면 세종은 포함이 안됨"
   ]
  },
  {
   "cell_type": "code",
   "execution_count": 7,
   "metadata": {},
   "outputs": [
    {
     "output_type": "execute_result",
     "data": {
      "text/plain": [
       "['서울', '인천', '대전', '울산']"
      ]
     },
     "metadata": {},
     "execution_count": 7
    }
   ],
   "source": [
    "# 시작값 : 끝값 : 증분\n",
    "cities[::2]   # 2 : 한칸씩 넘어가기"
   ]
  },
  {
   "cell_type": "code",
   "execution_count": 8,
   "metadata": {},
   "outputs": [
    {
     "output_type": "execute_result",
     "data": {
      "text/plain": [
       "['세종', '울산']"
      ]
     },
     "metadata": {},
     "execution_count": 8
    }
   ],
   "source": [
    "cities[7:5:-1]"
   ]
  },
  {
   "cell_type": "code",
   "execution_count": 9,
   "metadata": {},
   "outputs": [
    {
     "output_type": "execute_result",
     "data": {
      "text/plain": [
       "['서울', '부산', '인천', '대구', '대전', '광주', '울산', '세종']"
      ]
     },
     "metadata": {},
     "execution_count": 9
    }
   ],
   "source": [
    "# 인덱스 범위를 넘어가는 슬라이싱\n",
    "cities[-10:10]"
   ]
  },
  {
   "cell_type": "code",
   "execution_count": 10,
   "metadata": {},
   "outputs": [
    {
     "output_type": "execute_result",
     "data": {
      "text/plain": [
       "[]"
      ]
     },
     "metadata": {},
     "execution_count": 10
    }
   ],
   "source": [
    "cities[7:5]"
   ]
  },
  {
   "cell_type": "code",
   "execution_count": 11,
   "metadata": {},
   "outputs": [
    {
     "output_type": "execute_result",
     "data": {
      "text/plain": [
       "['세종', '울산', '광주', '대전', '대구', '인천', '부산', '서울']"
      ]
     },
     "metadata": {},
     "execution_count": 11
    }
   ],
   "source": [
    "cities[::-1]"
   ]
  },
  {
   "source": [
    "#### -연산"
   ],
   "cell_type": "markdown",
   "metadata": {}
  },
  {
   "cell_type": "code",
   "execution_count": 12,
   "metadata": {},
   "outputs": [],
   "source": [
    "color1=[\"red\", \"green\", \"blue\"]\n",
    "color2=[\"orange\", \"black\", \"white\"]"
   ]
  },
  {
   "cell_type": "code",
   "execution_count": 13,
   "metadata": {},
   "outputs": [
    {
     "output_type": "execute_result",
     "data": {
      "text/plain": [
       "3"
      ]
     },
     "metadata": {},
     "execution_count": 13
    }
   ],
   "source": [
    "len(color1)"
   ]
  },
  {
   "cell_type": "code",
   "execution_count": 14,
   "metadata": {},
   "outputs": [
    {
     "output_type": "execute_result",
     "data": {
      "text/plain": [
       "['red', 'green', 'blue', 'orange', 'black', 'white']"
      ]
     },
     "metadata": {},
     "execution_count": 14
    }
   ],
   "source": [
    "color1+color2"
   ]
  },
  {
   "cell_type": "code",
   "execution_count": 16,
   "metadata": {},
   "outputs": [
    {
     "output_type": "execute_result",
     "data": {
      "text/plain": [
       "['red', 'green', 'blue', 'orange', 'black', 'white']"
      ]
     },
     "metadata": {},
     "execution_count": 16
    }
   ],
   "source": [
    "total_color = color1+ color2\n",
    "total_color"
   ]
  },
  {
   "cell_type": "code",
   "execution_count": 17,
   "metadata": {},
   "outputs": [
    {
     "output_type": "execute_result",
     "data": {
      "text/plain": [
       "['red', 'green', 'blue', 'red', 'green', 'blue']"
      ]
     },
     "metadata": {},
     "execution_count": 17
    }
   ],
   "source": [
    "color1*2   # 반복"
   ]
  },
  {
   "cell_type": "code",
   "execution_count": 18,
   "metadata": {},
   "outputs": [
    {
     "output_type": "execute_result",
     "data": {
      "text/plain": [
       "(True, False)"
      ]
     },
     "metadata": {},
     "execution_count": 18
    }
   ],
   "source": [
    "\"red\" in color1, \"red\" in color2"
   ]
  },
  {
   "cell_type": "code",
   "execution_count": 20,
   "metadata": {},
   "outputs": [
    {
     "output_type": "execute_result",
     "data": {
      "text/plain": [
       "False"
      ]
     },
     "metadata": {},
     "execution_count": 20
    }
   ],
   "source": [
    "\"red\" not in color1"
   ]
  },
  {
   "source": [
    "#### - 리스트의 추가 및 삭제 (다양한 메쏘드)"
   ],
   "cell_type": "markdown",
   "metadata": {}
  },
  {
   "source": [
    "##### a. append()"
   ],
   "cell_type": "markdown",
   "metadata": {}
  },
  {
   "cell_type": "code",
   "execution_count": 40,
   "metadata": {},
   "outputs": [
    {
     "output_type": "execute_result",
     "data": {
      "text/plain": [
       "['red', 'green', 'blue']"
      ]
     },
     "metadata": {},
     "execution_count": 40
    }
   ],
   "source": [
    "color=[\"red\", \"green\", \"blue\"]\n",
    "color"
   ]
  },
  {
   "cell_type": "code",
   "execution_count": 41,
   "metadata": {},
   "outputs": [
    {
     "output_type": "execute_result",
     "data": {
      "text/plain": [
       "['red', 'green', 'blue', 'white']"
      ]
     },
     "metadata": {},
     "execution_count": 41
    }
   ],
   "source": [
    "color.append(\"white\")\n",
    "color"
   ]
  },
  {
   "cell_type": "code",
   "execution_count": 30,
   "metadata": {},
   "outputs": [
    {
     "output_type": "execute_result",
     "data": {
      "text/plain": [
       "['H', 'e', 'l', 'l', 'o', ' ', 'W', 'o', 'r', 'l', 'd']"
      ]
     },
     "metadata": {},
     "execution_count": 30
    }
   ],
   "source": [
    "result=list()   # empty list 생성\n",
    "for s in \"Hello World\" :\n",
    "    result.append(s)\n",
    "result"
   ]
  },
  {
   "cell_type": "code",
   "execution_count": 36,
   "metadata": {},
   "outputs": [
    {
     "output_type": "execute_result",
     "data": {
      "text/plain": [
       "['H', 'e', 'l', 'l', 'o', ' ', 'W', 'o', 'r', 'l', 'd']"
      ]
     },
     "metadata": {},
     "execution_count": 36
    }
   ],
   "source": [
    "x=[s for s in \"Hello World\"]\n",
    "x"
   ]
  },
  {
   "cell_type": "code",
   "execution_count": 34,
   "metadata": {},
   "outputs": [
    {
     "output_type": "execute_result",
     "data": {
      "text/plain": [
       "5050"
      ]
     },
     "metadata": {},
     "execution_count": 34
    }
   ],
   "source": [
    "sum=0\n",
    "for i in range(101) :\n",
    "    sum +=i\n",
    "sum"
   ]
  },
  {
   "source": [
    "##### b. extend()"
   ],
   "cell_type": "markdown",
   "metadata": {}
  },
  {
   "cell_type": "code",
   "execution_count": 42,
   "metadata": {},
   "outputs": [
    {
     "output_type": "execute_result",
     "data": {
      "text/plain": [
       "['red', 'green', 'blue', 'white', ['black', 'white']]"
      ]
     },
     "metadata": {},
     "execution_count": 42
    }
   ],
   "source": [
    "color.append([\"black\",\"white\"])\n",
    "color"
   ]
  },
  {
   "cell_type": "code",
   "execution_count": 44,
   "metadata": {},
   "outputs": [
    {
     "output_type": "execute_result",
     "data": {
      "text/plain": [
       "['red', 'green', 'blue', 'black', 'white']"
      ]
     },
     "metadata": {},
     "execution_count": 44
    }
   ],
   "source": [
    "color=[\"red\", \"green\", \"blue\"]\n",
    "color.extend([\"black\",\"white\"])\n",
    "color"
   ]
  },
  {
   "source": [
    "##### c. isert()"
   ],
   "cell_type": "markdown",
   "metadata": {}
  },
  {
   "cell_type": "code",
   "execution_count": 45,
   "metadata": {},
   "outputs": [
    {
     "output_type": "execute_result",
     "data": {
      "text/plain": [
       "['orange', 'red', 'green', 'blue', 'black', 'white']"
      ]
     },
     "metadata": {},
     "execution_count": 45
    }
   ],
   "source": [
    "color.insert(0,\"orange\")\n",
    "color"
   ]
  },
  {
   "source": [
    "##### d. remove()"
   ],
   "cell_type": "markdown",
   "metadata": {}
  },
  {
   "cell_type": "code",
   "execution_count": 46,
   "metadata": {},
   "outputs": [
    {
     "output_type": "execute_result",
     "data": {
      "text/plain": [
       "['red', 'green', 'blue', 'black', 'white']"
      ]
     },
     "metadata": {},
     "execution_count": 46
    }
   ],
   "source": [
    "color.remove(\"orange\")\n",
    "color"
   ]
  },
  {
   "cell_type": "code",
   "execution_count": 47,
   "metadata": {},
   "outputs": [
    {
     "output_type": "execute_result",
     "data": {
      "text/plain": [
       "['red', 'green', 'blue', 'black']"
      ]
     },
     "metadata": {},
     "execution_count": 47
    }
   ],
   "source": [
    "color.remove(color[-1])   # white 제거\n",
    "color"
   ]
  },
  {
   "cell_type": "code",
   "execution_count": 48,
   "metadata": {},
   "outputs": [
    {
     "output_type": "execute_result",
     "data": {
      "text/plain": [
       "['red', 'green', 'blue']"
      ]
     },
     "metadata": {},
     "execution_count": 48
    }
   ],
   "source": [
    "del color [-1]   # 명령어 del로 black 제거\n",
    "color"
   ]
  },
  {
   "source": [
    "#### - 리스트 element의 값 변경"
   ],
   "cell_type": "markdown",
   "metadata": {}
  },
  {
   "cell_type": "code",
   "execution_count": 49,
   "metadata": {},
   "outputs": [
    {
     "output_type": "execute_result",
     "data": {
      "text/plain": [
       "['red', 'green', 'purple']"
      ]
     },
     "metadata": {},
     "execution_count": 49
    }
   ],
   "source": [
    "color[2]=\"purple\"\n",
    "color"
   ]
  },
  {
   "source": [
    "#### e. sort()"
   ],
   "cell_type": "markdown",
   "metadata": {}
  },
  {
   "cell_type": "code",
   "execution_count": 50,
   "metadata": {},
   "outputs": [
    {
     "output_type": "execute_result",
     "data": {
      "text/plain": [
       "['red', 'green', 'purple']"
      ]
     },
     "metadata": {},
     "execution_count": 50
    }
   ],
   "source": [
    "color"
   ]
  },
  {
   "cell_type": "code",
   "execution_count": 52,
   "metadata": {},
   "outputs": [
    {
     "output_type": "execute_result",
     "data": {
      "text/plain": [
       "['green', 'purple', 'red']"
      ]
     },
     "metadata": {},
     "execution_count": 52
    }
   ],
   "source": [
    "# 올림차순이 기본(ascending order)\n",
    "color.sort()\n",
    "color"
   ]
  },
  {
   "cell_type": "code",
   "execution_count": 53,
   "metadata": {},
   "outputs": [
    {
     "output_type": "execute_result",
     "data": {
      "text/plain": [
       "['red', 'purple', 'green']"
      ]
     },
     "metadata": {},
     "execution_count": 53
    }
   ],
   "source": [
    "# 내림차순(descending order)\n",
    "color.sort(reverse=True)\n",
    "color"
   ]
  },
  {
   "source": [
    "#### - 패킹, 언패킹"
   ],
   "cell_type": "markdown",
   "metadata": {}
  },
  {
   "cell_type": "code",
   "execution_count": 54,
   "metadata": {},
   "outputs": [
    {
     "output_type": "execute_result",
     "data": {
      "text/plain": [
       "(1, 2, 3)"
      ]
     },
     "metadata": {},
     "execution_count": 54
    }
   ],
   "source": [
    "t= [1,2,3]\n",
    "a,b,c =t   # 리스트 언패킹\n",
    "a,b,c      # 튜플 패킹킹"
   ]
  },
  {
   "source": [
    "#### -이차원 리스트"
   ],
   "cell_type": "markdown",
   "metadata": {}
  },
  {
   "cell_type": "code",
   "execution_count": 56,
   "metadata": {},
   "outputs": [
    {
     "output_type": "execute_result",
     "data": {
      "text/plain": [
       "[[49, 79, 20, 100, 80], [43, 59, 85, 30, 90], [49, 79, 48, 60, 100]]"
      ]
     },
     "metadata": {},
     "execution_count": 56
    }
   ],
   "source": [
    "kor=[49,79,20,100,80]\n",
    "mat=[43,59,85,30,90]\n",
    "eng=[49,79,48,60,100]\n",
    "score=[kor, mat, eng]\n",
    "score"
   ]
  },
  {
   "cell_type": "code",
   "execution_count": 57,
   "metadata": {},
   "outputs": [
    {
     "output_type": "execute_result",
     "data": {
      "text/plain": [
       "[49, 79, 20, 100, 80]"
      ]
     },
     "metadata": {},
     "execution_count": 57
    }
   ],
   "source": [
    "score[0]"
   ]
  },
  {
   "cell_type": "code",
   "execution_count": 58,
   "metadata": {},
   "outputs": [
    {
     "output_type": "execute_result",
     "data": {
      "text/plain": [
       "30"
      ]
     },
     "metadata": {},
     "execution_count": 58
    }
   ],
   "source": [
    "# [행 인덱스][열 인덱스]\n",
    "score[1][3]"
   ]
  },
  {
   "cell_type": "code",
   "execution_count": 59,
   "metadata": {},
   "outputs": [
    {
     "output_type": "execute_result",
     "data": {
      "text/plain": [
       "[[43, 59, 85, 30, 90], [49, 79, 48, 60, 100]]"
      ]
     },
     "metadata": {},
     "execution_count": 59
    }
   ],
   "source": [
    "score[1:]"
   ]
  },
  {
   "cell_type": "code",
   "execution_count": 61,
   "metadata": {},
   "outputs": [
    {
     "output_type": "execute_result",
     "data": {
      "text/plain": [
       "[]"
      ]
     },
     "metadata": {},
     "execution_count": 61
    }
   ],
   "source": [
    "score[1:][2:]"
   ]
  },
  {
   "cell_type": "code",
   "execution_count": null,
   "metadata": {},
   "outputs": [],
   "source": [
    "score[:]   # 행 전부 다"
   ]
  }
 ]
}