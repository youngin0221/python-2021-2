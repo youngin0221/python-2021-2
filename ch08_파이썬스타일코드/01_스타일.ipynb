{
 "metadata": {
  "language_info": {
   "codemirror_mode": {
    "name": "ipython",
    "version": 3
   },
   "file_extension": ".py",
   "mimetype": "text/x-python",
   "name": "python",
   "nbconvert_exporter": "python",
   "pygments_lexer": "ipython3",
   "version": "3.8.5"
  },
  "orig_nbformat": 2,
  "kernelspec": {
   "name": "python385jvsc74a57bd08c1eae21719a0790335dcb83aad72b63b602cfe5cdb2bda0f60bc11d4f154e4b",
   "display_name": "Python 3.8.5 64-bit ('base': conda)"
  }
 },
 "nbformat": 4,
 "nbformat_minor": 2,
 "cells": [
  {
   "source": [
    "# 8장. 파이썬 스타일 코드 I"
   ],
   "cell_type": "markdown",
   "metadata": {}
  },
  {
   "source": [
    "### 1. join"
   ],
   "cell_type": "markdown",
   "metadata": {}
  },
  {
   "cell_type": "code",
   "execution_count": 1,
   "metadata": {},
   "outputs": [
    {
     "output_type": "execute_result",
     "data": {
      "text/plain": [
       "'redbluegreenyellow'"
      ]
     },
     "metadata": {},
     "execution_count": 1
    }
   ],
   "source": [
    "# 리스트의 각 요소를 빈칸 없이 붙이기\n",
    "colors = ['red','blue', 'green', 'yellow']\n",
    "color_text = ''\n",
    "for color in colors:\n",
    "    color_text += color\n",
    "color_text"
   ]
  },
  {
   "cell_type": "code",
   "execution_count": 2,
   "metadata": {},
   "outputs": [
    {
     "output_type": "execute_result",
     "data": {
      "text/plain": [
       "'red, blue, green, yellow, '"
      ]
     },
     "metadata": {},
     "execution_count": 2
    }
   ],
   "source": [
    "# 리스트의 각 요소 뒤 ', '를 사용해 붙이기\n",
    "colors = ['red','blue', 'green', 'yellow']\n",
    "color_text = ''\n",
    "for color in colors:\n",
    "    color_text += color + ', '\n",
    "color_text"
   ]
  },
  {
   "cell_type": "code",
   "execution_count": 3,
   "metadata": {},
   "outputs": [
    {
     "output_type": "execute_result",
     "data": {
      "text/plain": [
       "'red, blue, green, yellow'"
      ]
     },
     "metadata": {},
     "execution_count": 3
    }
   ],
   "source": [
    "colors = ['red','blue', 'green', 'yellow']\n",
    "color_text = ''\n",
    "for index, color in enumerate(colors):\n",
    "    color_text += color\n",
    "    if index != len(colors) - 1:  # 요소가 같지 않으면 ', '붙이기 =  yellow 끝에 ', '이 안 붙음\n",
    "        color_text += ', '\n",
    "color_text"
   ]
  }
 ]
}