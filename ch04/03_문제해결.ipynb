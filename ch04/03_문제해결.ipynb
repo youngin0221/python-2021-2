{
 "metadata": {
  "language_info": {
   "codemirror_mode": {
    "name": "ipython",
    "version": 3
   },
   "file_extension": ".py",
   "mimetype": "text/x-python",
   "name": "python",
   "nbconvert_exporter": "python",
   "pygments_lexer": "ipython3",
   "version": "3.8.5"
  },
  "orig_nbformat": 2,
  "kernelspec": {
   "name": "python385jvsc74a57bd08c1eae21719a0790335dcb83aad72b63b602cfe5cdb2bda0f60bc11d4f154e4b",
   "display_name": "Python 3.8.5 64-bit ('base': conda)"
  }
 },
 "nbformat": 4,
 "nbformat_minor": 2,
 "cells": [
  {
   "source": [
    "### 1. 구구단 계산기"
   ],
   "cell_type": "markdown",
   "metadata": {}
  },
  {
   "cell_type": "code",
   "execution_count": 1,
   "metadata": {},
   "outputs": [
    {
     "output_type": "stream",
     "name": "stdout",
     "text": [
      "6 * 1 = 6\n6 * 2 = 12\n6 * 3 = 18\n6 * 4 = 24\n6 * 5 = 30\n6 * 6 = 36\n6 * 7 = 42\n6 * 8 = 48\n6 * 9 = 54\n"
     ]
    }
   ],
   "source": [
    "# 구구단 6단\n",
    "n = 6\n",
    "for i in range(1,10):\n",
    "    print(f\"{n} * {i} = {n*i}\")"
   ]
  },
  {
   "source": [
    "### 2. 문자열 역순 출력"
   ],
   "cell_type": "markdown",
   "metadata": {}
  },
  {
   "cell_type": "code",
   "execution_count": 2,
   "metadata": {},
   "outputs": [
    {
     "output_type": "stream",
     "name": "stdout",
     "text": [
      "50 - 05\n"
     ]
    }
   ],
   "source": [
    "sentence = input()\n",
    "reverse_sentence = ''\n",
    "for char in sentence:\n",
    "    reverse_sentence = char + reverse_sentence\n",
    "print(sentence, '-', reverse_sentence)"
   ]
  },
  {
   "source": [
    "### 3. 십진수를 이진수로 변환"
   ],
   "cell_type": "markdown",
   "metadata": {}
  },
  {
   "cell_type": "code",
   "execution_count": 3,
   "metadata": {},
   "outputs": [
    {
     "output_type": "stream",
     "name": "stdout",
     "text": [
      "10100\n"
     ]
    }
   ],
   "source": [
    "num = 20      # 십진수 값\n",
    "answer = ''   # 이진수 값을 저장할 NULL String\n",
    "while num > 0:\n",
    "    remainder = num % 2   # 나머지\n",
    "    num = num // 2        # 몫\n",
    "    answer = str(remainder) + answer\n",
    "print(answer)"
   ]
  },
  {
   "source": [
    "### 4. 숫자 찾기 게임"
   ],
   "cell_type": "markdown",
   "metadata": {}
  },
  {
   "cell_type": "code",
   "execution_count": 4,
   "metadata": {},
   "outputs": [],
   "source": [
    "import random\n",
    "random_number = random.randint(1,100)"
   ]
  },
  {
   "cell_type": "code",
   "execution_count": 2,
   "metadata": {},
   "outputs": [
    {
     "output_type": "stream",
     "name": "stdout",
     "text": [
      "입력한 숫자50은/는 큽니다.\n",
      "입력한 숫자25은/는 작습니다.\n",
      "입력한 숫자37은/는 작습니다.\n",
      "입력한 숫자43은/는 큽니다.\n",
      "입력한 숫자40은/는 큽니다.\n",
      "빙고. 정답은38!!!\n"
     ]
    }
   ],
   "source": [
    "while True : \n",
    "    guess = int(input('1~100 사이의 정수를 찾아보세요.'))\n",
    "    if guess == random_number:\n",
    "        print(f'빙고. 정답은{guess}!!!')\n",
    "        break\n",
    "    if guess > random_number:\n",
    "        print(f'입력한 숫자{guess}은/는 큽니다.')\n",
    "    else:\n",
    "        print(f'입력한 숫자{guess}은/는 작습니다.')"
   ]
  },
  {
   "source": [
    "### 5 별표 그리기"
   ],
   "cell_type": "markdown",
   "metadata": {}
  },
  {
   "cell_type": "code",
   "execution_count": 5,
   "metadata": {},
   "outputs": [
    {
     "output_type": "stream",
     "name": "stdout",
     "text": [
      "+\n++\n+++\n++++\n+++++\n"
     ]
    }
   ],
   "source": [
    "for i in range(1,6):\n",
    "    for k in range(i):\n",
    "        print('+', sep='', end='')\n",
    "    print()"
   ]
  },
  {
   "cell_type": "code",
   "execution_count": 6,
   "metadata": {},
   "outputs": [
    {
     "output_type": "stream",
     "name": "stdout",
     "text": [
      "+++++\n ++++\n  +++\n   ++\n    +\n"
     ]
    }
   ],
   "source": [
    "for i in range(1,6):\n",
    "    for k in range(1,i):          # blank 출력\n",
    "        print(' ', sep='', end='')\n",
    "    for k in range(5-i+1):         # 별 출력\n",
    "        print('+', sep='', end='')\n",
    "    print()"
   ]
  }
 ]
}